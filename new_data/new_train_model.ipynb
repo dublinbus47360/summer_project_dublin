{
 "cells": [
  {
   "cell_type": "code",
   "execution_count": 1,
   "metadata": {},
   "outputs": [],
   "source": [
    "import pandas as pd\n",
    "# Import package numpy for numeric computing\n",
    "import numpy as np\n",
    "import matplotlib.patches as mpatches\n",
    "# Import package matplotlib for visualisation/plotting\n",
    "import matplotlib.pyplot as plt\n",
    "# Import seaborn for visualisation/plotting\n",
    "import seaborn as sns\n",
    "\n",
    "%matplotlib inline\n"
   ]
  },
  {
   "cell_type": "markdown",
   "metadata": {},
   "source": [
    "### 1) Read in the file"
   ]
  },
  {
   "cell_type": "code",
   "execution_count": 3,
   "metadata": {},
   "outputs": [],
   "source": [
    "# Read the trainning file\n",
    "route46A = pd.read_csv('new_merge_weather.csv')"
   ]
  },
  {
   "cell_type": "code",
   "execution_count": 4,
   "metadata": {},
   "outputs": [
    {
     "data": {
      "text/html": [
       "<div>\n",
       "<style scoped>\n",
       "    .dataframe tbody tr th:only-of-type {\n",
       "        vertical-align: middle;\n",
       "    }\n",
       "\n",
       "    .dataframe tbody tr th {\n",
       "        vertical-align: top;\n",
       "    }\n",
       "\n",
       "    .dataframe thead th {\n",
       "        text-align: right;\n",
       "    }\n",
       "</style>\n",
       "<table border=\"1\" class=\"dataframe\">\n",
       "  <thead>\n",
       "    <tr style=\"text-align: right;\">\n",
       "      <th></th>\n",
       "      <th>Unnamed: 0</th>\n",
       "      <th>Date_Time</th>\n",
       "      <th>Sequence</th>\n",
       "      <th>StopID</th>\n",
       "      <th>Planned_Arr</th>\n",
       "      <th>Actual_Arr</th>\n",
       "      <th>rain</th>\n",
       "      <th>temp</th>\n",
       "      <th>rhum</th>\n",
       "      <th>wdsp</th>\n",
       "      <th>wddir</th>\n",
       "      <th>vis</th>\n",
       "    </tr>\n",
       "  </thead>\n",
       "  <tbody>\n",
       "    <tr>\n",
       "      <th>0</th>\n",
       "      <td>0</td>\n",
       "      <td>02-JAN-18 00:00:00</td>\n",
       "      <td>60</td>\n",
       "      <td>803</td>\n",
       "      <td>25434</td>\n",
       "      <td>25239</td>\n",
       "      <td>0.0</td>\n",
       "      <td>3.7</td>\n",
       "      <td>78</td>\n",
       "      <td>12</td>\n",
       "      <td>240</td>\n",
       "      <td>30000</td>\n",
       "    </tr>\n",
       "    <tr>\n",
       "      <th>1</th>\n",
       "      <td>1</td>\n",
       "      <td>02-JAN-18 00:00:00</td>\n",
       "      <td>7</td>\n",
       "      <td>813</td>\n",
       "      <td>63698</td>\n",
       "      <td>63501</td>\n",
       "      <td>0.0</td>\n",
       "      <td>3.7</td>\n",
       "      <td>78</td>\n",
       "      <td>12</td>\n",
       "      <td>240</td>\n",
       "      <td>30000</td>\n",
       "    </tr>\n",
       "    <tr>\n",
       "      <th>2</th>\n",
       "      <td>2</td>\n",
       "      <td>02-JAN-18 00:00:00</td>\n",
       "      <td>9</td>\n",
       "      <td>81</td>\n",
       "      <td>63878</td>\n",
       "      <td>63703</td>\n",
       "      <td>0.0</td>\n",
       "      <td>3.7</td>\n",
       "      <td>78</td>\n",
       "      <td>12</td>\n",
       "      <td>240</td>\n",
       "      <td>30000</td>\n",
       "    </tr>\n",
       "    <tr>\n",
       "      <th>3</th>\n",
       "      <td>3</td>\n",
       "      <td>02-JAN-18 00:00:00</td>\n",
       "      <td>10</td>\n",
       "      <td>817</td>\n",
       "      <td>63977</td>\n",
       "      <td>63780</td>\n",
       "      <td>0.0</td>\n",
       "      <td>3.7</td>\n",
       "      <td>78</td>\n",
       "      <td>12</td>\n",
       "      <td>240</td>\n",
       "      <td>30000</td>\n",
       "    </tr>\n",
       "    <tr>\n",
       "      <th>4</th>\n",
       "      <td>4</td>\n",
       "      <td>02-JAN-18 00:00:00</td>\n",
       "      <td>11</td>\n",
       "      <td>818</td>\n",
       "      <td>64030</td>\n",
       "      <td>63792</td>\n",
       "      <td>0.0</td>\n",
       "      <td>3.7</td>\n",
       "      <td>78</td>\n",
       "      <td>12</td>\n",
       "      <td>240</td>\n",
       "      <td>30000</td>\n",
       "    </tr>\n",
       "  </tbody>\n",
       "</table>\n",
       "</div>"
      ],
      "text/plain": [
       "   Unnamed: 0           Date_Time  Sequence  StopID  Planned_Arr  Actual_Arr  \\\n",
       "0           0  02-JAN-18 00:00:00        60     803        25434       25239   \n",
       "1           1  02-JAN-18 00:00:00         7     813        63698       63501   \n",
       "2           2  02-JAN-18 00:00:00         9      81        63878       63703   \n",
       "3           3  02-JAN-18 00:00:00        10     817        63977       63780   \n",
       "4           4  02-JAN-18 00:00:00        11     818        64030       63792   \n",
       "\n",
       "   rain  temp  rhum  wdsp  wddir    vis  \n",
       "0   0.0   3.7    78    12    240  30000  \n",
       "1   0.0   3.7    78    12    240  30000  \n",
       "2   0.0   3.7    78    12    240  30000  \n",
       "3   0.0   3.7    78    12    240  30000  \n",
       "4   0.0   3.7    78    12    240  30000  "
      ]
     },
     "execution_count": 4,
     "metadata": {},
     "output_type": "execute_result"
    }
   ],
   "source": [
    "route46A.head()"
   ]
  },
  {
   "cell_type": "code",
   "execution_count": 5,
   "metadata": {},
   "outputs": [],
   "source": [
    "route46A = route46A.drop('Unnamed: 0', axis=1)"
   ]
  },
  {
   "cell_type": "code",
   "execution_count": 6,
   "metadata": {},
   "outputs": [
    {
     "data": {
      "text/html": [
       "<div>\n",
       "<style scoped>\n",
       "    .dataframe tbody tr th:only-of-type {\n",
       "        vertical-align: middle;\n",
       "    }\n",
       "\n",
       "    .dataframe tbody tr th {\n",
       "        vertical-align: top;\n",
       "    }\n",
       "\n",
       "    .dataframe thead th {\n",
       "        text-align: right;\n",
       "    }\n",
       "</style>\n",
       "<table border=\"1\" class=\"dataframe\">\n",
       "  <thead>\n",
       "    <tr style=\"text-align: right;\">\n",
       "      <th></th>\n",
       "      <th>Date_Time</th>\n",
       "      <th>Sequence</th>\n",
       "      <th>StopID</th>\n",
       "      <th>Planned_Arr</th>\n",
       "      <th>Actual_Arr</th>\n",
       "      <th>rain</th>\n",
       "      <th>temp</th>\n",
       "      <th>rhum</th>\n",
       "      <th>wdsp</th>\n",
       "      <th>wddir</th>\n",
       "      <th>vis</th>\n",
       "    </tr>\n",
       "  </thead>\n",
       "  <tbody>\n",
       "    <tr>\n",
       "      <th>0</th>\n",
       "      <td>02-JAN-18 00:00:00</td>\n",
       "      <td>60</td>\n",
       "      <td>803</td>\n",
       "      <td>25434</td>\n",
       "      <td>25239</td>\n",
       "      <td>0.0</td>\n",
       "      <td>3.7</td>\n",
       "      <td>78</td>\n",
       "      <td>12</td>\n",
       "      <td>240</td>\n",
       "      <td>30000</td>\n",
       "    </tr>\n",
       "    <tr>\n",
       "      <th>1</th>\n",
       "      <td>02-JAN-18 00:00:00</td>\n",
       "      <td>7</td>\n",
       "      <td>813</td>\n",
       "      <td>63698</td>\n",
       "      <td>63501</td>\n",
       "      <td>0.0</td>\n",
       "      <td>3.7</td>\n",
       "      <td>78</td>\n",
       "      <td>12</td>\n",
       "      <td>240</td>\n",
       "      <td>30000</td>\n",
       "    </tr>\n",
       "    <tr>\n",
       "      <th>2</th>\n",
       "      <td>02-JAN-18 00:00:00</td>\n",
       "      <td>9</td>\n",
       "      <td>81</td>\n",
       "      <td>63878</td>\n",
       "      <td>63703</td>\n",
       "      <td>0.0</td>\n",
       "      <td>3.7</td>\n",
       "      <td>78</td>\n",
       "      <td>12</td>\n",
       "      <td>240</td>\n",
       "      <td>30000</td>\n",
       "    </tr>\n",
       "    <tr>\n",
       "      <th>3</th>\n",
       "      <td>02-JAN-18 00:00:00</td>\n",
       "      <td>10</td>\n",
       "      <td>817</td>\n",
       "      <td>63977</td>\n",
       "      <td>63780</td>\n",
       "      <td>0.0</td>\n",
       "      <td>3.7</td>\n",
       "      <td>78</td>\n",
       "      <td>12</td>\n",
       "      <td>240</td>\n",
       "      <td>30000</td>\n",
       "    </tr>\n",
       "    <tr>\n",
       "      <th>4</th>\n",
       "      <td>02-JAN-18 00:00:00</td>\n",
       "      <td>11</td>\n",
       "      <td>818</td>\n",
       "      <td>64030</td>\n",
       "      <td>63792</td>\n",
       "      <td>0.0</td>\n",
       "      <td>3.7</td>\n",
       "      <td>78</td>\n",
       "      <td>12</td>\n",
       "      <td>240</td>\n",
       "      <td>30000</td>\n",
       "    </tr>\n",
       "  </tbody>\n",
       "</table>\n",
       "</div>"
      ],
      "text/plain": [
       "            Date_Time  Sequence  StopID  Planned_Arr  Actual_Arr  rain  temp  \\\n",
       "0  02-JAN-18 00:00:00        60     803        25434       25239   0.0   3.7   \n",
       "1  02-JAN-18 00:00:00         7     813        63698       63501   0.0   3.7   \n",
       "2  02-JAN-18 00:00:00         9      81        63878       63703   0.0   3.7   \n",
       "3  02-JAN-18 00:00:00        10     817        63977       63780   0.0   3.7   \n",
       "4  02-JAN-18 00:00:00        11     818        64030       63792   0.0   3.7   \n",
       "\n",
       "   rhum  wdsp  wddir    vis  \n",
       "0    78    12    240  30000  \n",
       "1    78    12    240  30000  \n",
       "2    78    12    240  30000  \n",
       "3    78    12    240  30000  \n",
       "4    78    12    240  30000  "
      ]
     },
     "execution_count": 6,
     "metadata": {},
     "output_type": "execute_result"
    }
   ],
   "source": [
    "route46A.head()"
   ]
  },
  {
   "cell_type": "markdown",
   "metadata": {},
   "source": [
    "### 2) Add in date and dayofweek"
   ]
  },
  {
   "cell_type": "code",
   "execution_count": 7,
   "metadata": {},
   "outputs": [],
   "source": [
    "date_time = list(route46A['Date_Time'])"
   ]
  },
  {
   "cell_type": "code",
   "execution_count": 8,
   "metadata": {},
   "outputs": [
    {
     "data": {
      "text/plain": [
       "209771"
      ]
     },
     "execution_count": 8,
     "metadata": {},
     "output_type": "execute_result"
    }
   ],
   "source": [
    "len(date_time)"
   ]
  },
  {
   "cell_type": "code",
   "execution_count": 9,
   "metadata": {},
   "outputs": [],
   "source": [
    "only_date = []\n",
    "for i in date_time:\n",
    "    date = i[0:9]\n",
    "    only_date.append(date)"
   ]
  },
  {
   "cell_type": "code",
   "execution_count": 10,
   "metadata": {},
   "outputs": [
    {
     "data": {
      "text/plain": [
       "'02-JAN-18'"
      ]
     },
     "execution_count": 10,
     "metadata": {},
     "output_type": "execute_result"
    }
   ],
   "source": [
    "only_date[0]"
   ]
  },
  {
   "cell_type": "code",
   "execution_count": 11,
   "metadata": {},
   "outputs": [],
   "source": [
    "import datetime\n",
    "week_day = []\n",
    "for i in only_date:\n",
    "    week_day.append(datetime.datetime.strptime(i,'%d-%b-%y').strftime('%A'))"
   ]
  },
  {
   "cell_type": "code",
   "execution_count": 12,
   "metadata": {},
   "outputs": [
    {
     "data": {
      "text/plain": [
       "'Friday'"
      ]
     },
     "execution_count": 12,
     "metadata": {},
     "output_type": "execute_result"
    }
   ],
   "source": [
    "week_day[209770]"
   ]
  },
  {
   "cell_type": "code",
   "execution_count": 13,
   "metadata": {},
   "outputs": [],
   "source": [
    "route46A = route46A.assign(Date=only_date)"
   ]
  },
  {
   "cell_type": "code",
   "execution_count": 14,
   "metadata": {},
   "outputs": [
    {
     "data": {
      "text/html": [
       "<div>\n",
       "<style scoped>\n",
       "    .dataframe tbody tr th:only-of-type {\n",
       "        vertical-align: middle;\n",
       "    }\n",
       "\n",
       "    .dataframe tbody tr th {\n",
       "        vertical-align: top;\n",
       "    }\n",
       "\n",
       "    .dataframe thead th {\n",
       "        text-align: right;\n",
       "    }\n",
       "</style>\n",
       "<table border=\"1\" class=\"dataframe\">\n",
       "  <thead>\n",
       "    <tr style=\"text-align: right;\">\n",
       "      <th></th>\n",
       "      <th>Date_Time</th>\n",
       "      <th>Sequence</th>\n",
       "      <th>StopID</th>\n",
       "      <th>Planned_Arr</th>\n",
       "      <th>Actual_Arr</th>\n",
       "      <th>rain</th>\n",
       "      <th>temp</th>\n",
       "      <th>rhum</th>\n",
       "      <th>wdsp</th>\n",
       "      <th>wddir</th>\n",
       "      <th>vis</th>\n",
       "      <th>Date</th>\n",
       "    </tr>\n",
       "  </thead>\n",
       "  <tbody>\n",
       "    <tr>\n",
       "      <th>0</th>\n",
       "      <td>02-JAN-18 00:00:00</td>\n",
       "      <td>60</td>\n",
       "      <td>803</td>\n",
       "      <td>25434</td>\n",
       "      <td>25239</td>\n",
       "      <td>0.0</td>\n",
       "      <td>3.7</td>\n",
       "      <td>78</td>\n",
       "      <td>12</td>\n",
       "      <td>240</td>\n",
       "      <td>30000</td>\n",
       "      <td>02-JAN-18</td>\n",
       "    </tr>\n",
       "    <tr>\n",
       "      <th>1</th>\n",
       "      <td>02-JAN-18 00:00:00</td>\n",
       "      <td>7</td>\n",
       "      <td>813</td>\n",
       "      <td>63698</td>\n",
       "      <td>63501</td>\n",
       "      <td>0.0</td>\n",
       "      <td>3.7</td>\n",
       "      <td>78</td>\n",
       "      <td>12</td>\n",
       "      <td>240</td>\n",
       "      <td>30000</td>\n",
       "      <td>02-JAN-18</td>\n",
       "    </tr>\n",
       "    <tr>\n",
       "      <th>2</th>\n",
       "      <td>02-JAN-18 00:00:00</td>\n",
       "      <td>9</td>\n",
       "      <td>81</td>\n",
       "      <td>63878</td>\n",
       "      <td>63703</td>\n",
       "      <td>0.0</td>\n",
       "      <td>3.7</td>\n",
       "      <td>78</td>\n",
       "      <td>12</td>\n",
       "      <td>240</td>\n",
       "      <td>30000</td>\n",
       "      <td>02-JAN-18</td>\n",
       "    </tr>\n",
       "    <tr>\n",
       "      <th>3</th>\n",
       "      <td>02-JAN-18 00:00:00</td>\n",
       "      <td>10</td>\n",
       "      <td>817</td>\n",
       "      <td>63977</td>\n",
       "      <td>63780</td>\n",
       "      <td>0.0</td>\n",
       "      <td>3.7</td>\n",
       "      <td>78</td>\n",
       "      <td>12</td>\n",
       "      <td>240</td>\n",
       "      <td>30000</td>\n",
       "      <td>02-JAN-18</td>\n",
       "    </tr>\n",
       "    <tr>\n",
       "      <th>4</th>\n",
       "      <td>02-JAN-18 00:00:00</td>\n",
       "      <td>11</td>\n",
       "      <td>818</td>\n",
       "      <td>64030</td>\n",
       "      <td>63792</td>\n",
       "      <td>0.0</td>\n",
       "      <td>3.7</td>\n",
       "      <td>78</td>\n",
       "      <td>12</td>\n",
       "      <td>240</td>\n",
       "      <td>30000</td>\n",
       "      <td>02-JAN-18</td>\n",
       "    </tr>\n",
       "  </tbody>\n",
       "</table>\n",
       "</div>"
      ],
      "text/plain": [
       "            Date_Time  Sequence  StopID  Planned_Arr  Actual_Arr  rain  temp  \\\n",
       "0  02-JAN-18 00:00:00        60     803        25434       25239   0.0   3.7   \n",
       "1  02-JAN-18 00:00:00         7     813        63698       63501   0.0   3.7   \n",
       "2  02-JAN-18 00:00:00         9      81        63878       63703   0.0   3.7   \n",
       "3  02-JAN-18 00:00:00        10     817        63977       63780   0.0   3.7   \n",
       "4  02-JAN-18 00:00:00        11     818        64030       63792   0.0   3.7   \n",
       "\n",
       "   rhum  wdsp  wddir    vis       Date  \n",
       "0    78    12    240  30000  02-JAN-18  \n",
       "1    78    12    240  30000  02-JAN-18  \n",
       "2    78    12    240  30000  02-JAN-18  \n",
       "3    78    12    240  30000  02-JAN-18  \n",
       "4    78    12    240  30000  02-JAN-18  "
      ]
     },
     "execution_count": 14,
     "metadata": {},
     "output_type": "execute_result"
    }
   ],
   "source": [
    "route46A.head()"
   ]
  },
  {
   "cell_type": "code",
   "execution_count": 15,
   "metadata": {},
   "outputs": [
    {
     "data": {
      "text/html": [
       "<div>\n",
       "<style scoped>\n",
       "    .dataframe tbody tr th:only-of-type {\n",
       "        vertical-align: middle;\n",
       "    }\n",
       "\n",
       "    .dataframe tbody tr th {\n",
       "        vertical-align: top;\n",
       "    }\n",
       "\n",
       "    .dataframe thead th {\n",
       "        text-align: right;\n",
       "    }\n",
       "</style>\n",
       "<table border=\"1\" class=\"dataframe\">\n",
       "  <thead>\n",
       "    <tr style=\"text-align: right;\">\n",
       "      <th></th>\n",
       "      <th>Date_Time</th>\n",
       "      <th>Sequence</th>\n",
       "      <th>StopID</th>\n",
       "      <th>Planned_Arr</th>\n",
       "      <th>Actual_Arr</th>\n",
       "      <th>rain</th>\n",
       "      <th>temp</th>\n",
       "      <th>rhum</th>\n",
       "      <th>wdsp</th>\n",
       "      <th>wddir</th>\n",
       "      <th>vis</th>\n",
       "      <th>Date</th>\n",
       "      <th>Day</th>\n",
       "    </tr>\n",
       "  </thead>\n",
       "  <tbody>\n",
       "    <tr>\n",
       "      <th>0</th>\n",
       "      <td>02-JAN-18 00:00:00</td>\n",
       "      <td>60</td>\n",
       "      <td>803</td>\n",
       "      <td>25434</td>\n",
       "      <td>25239</td>\n",
       "      <td>0.0</td>\n",
       "      <td>3.7</td>\n",
       "      <td>78</td>\n",
       "      <td>12</td>\n",
       "      <td>240</td>\n",
       "      <td>30000</td>\n",
       "      <td>02-JAN-18</td>\n",
       "      <td>Tuesday</td>\n",
       "    </tr>\n",
       "    <tr>\n",
       "      <th>1</th>\n",
       "      <td>02-JAN-18 00:00:00</td>\n",
       "      <td>7</td>\n",
       "      <td>813</td>\n",
       "      <td>63698</td>\n",
       "      <td>63501</td>\n",
       "      <td>0.0</td>\n",
       "      <td>3.7</td>\n",
       "      <td>78</td>\n",
       "      <td>12</td>\n",
       "      <td>240</td>\n",
       "      <td>30000</td>\n",
       "      <td>02-JAN-18</td>\n",
       "      <td>Tuesday</td>\n",
       "    </tr>\n",
       "    <tr>\n",
       "      <th>2</th>\n",
       "      <td>02-JAN-18 00:00:00</td>\n",
       "      <td>9</td>\n",
       "      <td>81</td>\n",
       "      <td>63878</td>\n",
       "      <td>63703</td>\n",
       "      <td>0.0</td>\n",
       "      <td>3.7</td>\n",
       "      <td>78</td>\n",
       "      <td>12</td>\n",
       "      <td>240</td>\n",
       "      <td>30000</td>\n",
       "      <td>02-JAN-18</td>\n",
       "      <td>Tuesday</td>\n",
       "    </tr>\n",
       "    <tr>\n",
       "      <th>3</th>\n",
       "      <td>02-JAN-18 00:00:00</td>\n",
       "      <td>10</td>\n",
       "      <td>817</td>\n",
       "      <td>63977</td>\n",
       "      <td>63780</td>\n",
       "      <td>0.0</td>\n",
       "      <td>3.7</td>\n",
       "      <td>78</td>\n",
       "      <td>12</td>\n",
       "      <td>240</td>\n",
       "      <td>30000</td>\n",
       "      <td>02-JAN-18</td>\n",
       "      <td>Tuesday</td>\n",
       "    </tr>\n",
       "    <tr>\n",
       "      <th>4</th>\n",
       "      <td>02-JAN-18 00:00:00</td>\n",
       "      <td>11</td>\n",
       "      <td>818</td>\n",
       "      <td>64030</td>\n",
       "      <td>63792</td>\n",
       "      <td>0.0</td>\n",
       "      <td>3.7</td>\n",
       "      <td>78</td>\n",
       "      <td>12</td>\n",
       "      <td>240</td>\n",
       "      <td>30000</td>\n",
       "      <td>02-JAN-18</td>\n",
       "      <td>Tuesday</td>\n",
       "    </tr>\n",
       "  </tbody>\n",
       "</table>\n",
       "</div>"
      ],
      "text/plain": [
       "            Date_Time  Sequence  StopID  Planned_Arr  Actual_Arr  rain  temp  \\\n",
       "0  02-JAN-18 00:00:00        60     803        25434       25239   0.0   3.7   \n",
       "1  02-JAN-18 00:00:00         7     813        63698       63501   0.0   3.7   \n",
       "2  02-JAN-18 00:00:00         9      81        63878       63703   0.0   3.7   \n",
       "3  02-JAN-18 00:00:00        10     817        63977       63780   0.0   3.7   \n",
       "4  02-JAN-18 00:00:00        11     818        64030       63792   0.0   3.7   \n",
       "\n",
       "   rhum  wdsp  wddir    vis       Date      Day  \n",
       "0    78    12    240  30000  02-JAN-18  Tuesday  \n",
       "1    78    12    240  30000  02-JAN-18  Tuesday  \n",
       "2    78    12    240  30000  02-JAN-18  Tuesday  \n",
       "3    78    12    240  30000  02-JAN-18  Tuesday  \n",
       "4    78    12    240  30000  02-JAN-18  Tuesday  "
      ]
     },
     "execution_count": 15,
     "metadata": {},
     "output_type": "execute_result"
    }
   ],
   "source": [
    "route46A = route46A.assign(Day=week_day)\n",
    "route46A.head()"
   ]
  },
  {
   "cell_type": "markdown",
   "metadata": {},
   "source": [
    "### 3) Understand the features"
   ]
  },
  {
   "cell_type": "code",
   "execution_count": 16,
   "metadata": {},
   "outputs": [
    {
     "data": {
      "text/plain": [
       "Date_Time       object\n",
       "Sequence         int64\n",
       "StopID           int64\n",
       "Planned_Arr      int64\n",
       "Actual_Arr       int64\n",
       "rain           float64\n",
       "temp           float64\n",
       "rhum             int64\n",
       "wdsp             int64\n",
       "wddir            int64\n",
       "vis              int64\n",
       "Date            object\n",
       "Day             object\n",
       "dtype: object"
      ]
     },
     "execution_count": 16,
     "metadata": {},
     "output_type": "execute_result"
    }
   ],
   "source": [
    "route46A.dtypes"
   ]
  },
  {
   "cell_type": "code",
   "execution_count": 17,
   "metadata": {},
   "outputs": [
    {
     "data": {
      "text/plain": [
       "array(['02-JAN-18 00:00:00', '03-JAN-18 00:00:00', '04-JAN-18 00:00:00',\n",
       "       '05-JAN-18 00:00:00', '06-JAN-18 00:00:00', '08-JAN-18 00:00:00',\n",
       "       '09-JAN-18 00:00:00', '10-JAN-18 00:00:00', '11-JAN-18 00:00:00',\n",
       "       '12-JAN-18 00:00:00', '13-JAN-18 00:00:00', '14-JAN-18 00:00:00',\n",
       "       '15-JAN-18 00:00:00', '16-JAN-18 00:00:00', '17-JAN-18 00:00:00',\n",
       "       '18-JAN-18 00:00:00', '19-JAN-18 00:00:00', '22-JAN-18 00:00:00',\n",
       "       '23-JAN-18 00:00:00', '24-JAN-18 00:00:00', '25-JAN-18 00:00:00',\n",
       "       '26-JAN-18 00:00:00'], dtype=object)"
      ]
     },
     "execution_count": 17,
     "metadata": {},
     "output_type": "execute_result"
    }
   ],
   "source": [
    "route46A['Date_Time'].unique()"
   ]
  },
  {
   "cell_type": "code",
   "execution_count": 18,
   "metadata": {},
   "outputs": [
    {
     "data": {
      "text/plain": [
       "array([60,  7,  9, 10, 11, 12, 13, 14, 16, 17, 19, 20, 21, 22, 23, 24,  6,\n",
       "        5,  3,  2, 27, 25, 37, 47, 38,  4, 18,  1, 26, 44, 43, 34, 28, 46,\n",
       "       29, 31, 32, 33, 30, 50, 41, 36, 45, 42, 39, 40, 35, 48, 49, 51, 52,\n",
       "       15, 53, 55, 54, 56, 57, 58, 59, 64, 63, 62,  8, 61], dtype=int64)"
      ]
     },
     "execution_count": 18,
     "metadata": {},
     "output_type": "execute_result"
    }
   ],
   "source": [
    "##Sequence\n",
    "route46A['Sequence'].unique()"
   ]
  },
  {
   "cell_type": "code",
   "execution_count": 19,
   "metadata": {},
   "outputs": [
    {
     "data": {
      "text/plain": [
       "array([ 803,  813,   81,  817,  818,  819,  264, 6059,  406,  747,  845,\n",
       "        846,  847,  848, 2795,  756,  812,  811,  809,  808, 2069,  461,\n",
       "       4728, 4727, 2065, 2064, 2063,  757, 2062, 2060, 7353, 2020, 4571,\n",
       "        810,  842,  807, 2061, 2059,  758, 2036, 2017, 2015, 2009, 2057,\n",
       "       2056,  759,  760, 2019,  761,  763, 2007, 2008, 2013, 4570,  762,\n",
       "       2070, 4565, 2014, 4567, 2022, 2034, 2032, 2031, 2021, 2018, 2016,\n",
       "       4636, 4566, 2084,  768,  769, 2010,  435,  334, 7658, 2033, 7491,\n",
       "        320,  792,  786,  908,  907,  906,  278,  804,  775,  774,  773,\n",
       "        772,  771,  770,  777,    2,  796, 2035, 2039,  192,  806,  802,\n",
       "        801,  800,  799,  798,  797,  805, 4569, 2046,  776, 2041,  814,\n",
       "       2044, 2043,  795, 2045, 2040, 2058, 2068, 4568, 2042,  909, 4962,\n",
       "        767, 7513,  401], dtype=int64)"
      ]
     },
     "execution_count": 19,
     "metadata": {},
     "output_type": "execute_result"
    }
   ],
   "source": [
    "##StopID\n",
    "route46A['StopID'].unique()"
   ]
  },
  {
   "cell_type": "code",
   "execution_count": 20,
   "metadata": {},
   "outputs": [
    {
     "data": {
      "text/plain": [
       "array([0. , 0.1])"
      ]
     },
     "execution_count": 20,
     "metadata": {},
     "output_type": "execute_result"
    }
   ],
   "source": [
    "##rain\n",
    "route46A['rain'].unique()"
   ]
  },
  {
   "cell_type": "code",
   "execution_count": 21,
   "metadata": {},
   "outputs": [
    {
     "data": {
      "text/plain": [
       "array([ 3.7,  5.2,  6.1,  3.8,  0.1,  4.1,  5.5,  4. ,  3. ,  7.8,  6.6,\n",
       "        9.5,  3.2,  0.2,  9.3,  0.5,  7.9,  9.7, 11.5])"
      ]
     },
     "execution_count": 21,
     "metadata": {},
     "output_type": "execute_result"
    }
   ],
   "source": [
    "##temp\n",
    "route46A['temp'].unique()"
   ]
  },
  {
   "cell_type": "code",
   "execution_count": 22,
   "metadata": {},
   "outputs": [
    {
     "data": {
      "text/plain": [
       "array(['02-JAN-18', '03-JAN-18', '04-JAN-18', '05-JAN-18', '06-JAN-18',\n",
       "       '08-JAN-18', '09-JAN-18', '10-JAN-18', '11-JAN-18', '12-JAN-18',\n",
       "       '13-JAN-18', '14-JAN-18', '15-JAN-18', '16-JAN-18', '17-JAN-18',\n",
       "       '18-JAN-18', '19-JAN-18', '22-JAN-18', '23-JAN-18', '24-JAN-18',\n",
       "       '25-JAN-18', '26-JAN-18'], dtype=object)"
      ]
     },
     "execution_count": 22,
     "metadata": {},
     "output_type": "execute_result"
    }
   ],
   "source": [
    "route46A['Date'].unique()"
   ]
  },
  {
   "cell_type": "code",
   "execution_count": 23,
   "metadata": {},
   "outputs": [
    {
     "data": {
      "text/plain": [
       "array(['Tuesday', 'Wednesday', 'Thursday', 'Friday', 'Saturday', 'Monday',\n",
       "       'Sunday'], dtype=object)"
      ]
     },
     "execution_count": 23,
     "metadata": {},
     "output_type": "execute_result"
    }
   ],
   "source": [
    "route46A['Day'].unique()"
   ]
  },
  {
   "cell_type": "code",
   "execution_count": 24,
   "metadata": {},
   "outputs": [
    {
     "data": {
      "text/plain": [
       "(209771, 13)"
      ]
     },
     "execution_count": 24,
     "metadata": {},
     "output_type": "execute_result"
    }
   ],
   "source": [
    "route46A.shape"
   ]
  },
  {
   "cell_type": "code",
   "execution_count": 26,
   "metadata": {},
   "outputs": [
    {
     "data": {
      "text/plain": [
       "Date_Time        object\n",
       "Sequence       category\n",
       "StopID         category\n",
       "Planned_Arr       int64\n",
       "Actual_Arr        int64\n",
       "rain           category\n",
       "temp           category\n",
       "rhum              int64\n",
       "wdsp              int64\n",
       "wddir             int64\n",
       "vis               int64\n",
       "Date           category\n",
       "Day            category\n",
       "dtype: object"
      ]
     },
     "execution_count": 26,
     "metadata": {},
     "output_type": "execute_result"
    }
   ],
   "source": [
    "# Select the categorical ferature\n",
    "categorical = ['Sequence','StopID','rain','temp','Date','Day']\n",
    "\n",
    "# Convert them to categorical\n",
    "for col in categorical:\n",
    "    route46A[col] = route46A[col].astype('category')\n",
    "\n",
    "route46A.dtypes"
   ]
  },
  {
   "cell_type": "code",
   "execution_count": 27,
   "metadata": {},
   "outputs": [
    {
     "data": {
      "text/html": [
       "<div>\n",
       "<style scoped>\n",
       "    .dataframe tbody tr th:only-of-type {\n",
       "        vertical-align: middle;\n",
       "    }\n",
       "\n",
       "    .dataframe tbody tr th {\n",
       "        vertical-align: top;\n",
       "    }\n",
       "\n",
       "    .dataframe thead th {\n",
       "        text-align: right;\n",
       "    }\n",
       "</style>\n",
       "<table border=\"1\" class=\"dataframe\">\n",
       "  <thead>\n",
       "    <tr style=\"text-align: right;\">\n",
       "      <th></th>\n",
       "      <th>Date_Time</th>\n",
       "      <th>Sequence</th>\n",
       "      <th>StopID</th>\n",
       "      <th>Planned_Arr</th>\n",
       "      <th>Actual_Arr</th>\n",
       "      <th>rain</th>\n",
       "      <th>temp</th>\n",
       "      <th>rhum</th>\n",
       "      <th>wdsp</th>\n",
       "      <th>wddir</th>\n",
       "      <th>vis</th>\n",
       "      <th>Date</th>\n",
       "      <th>Day</th>\n",
       "    </tr>\n",
       "  </thead>\n",
       "  <tbody>\n",
       "    <tr>\n",
       "      <th>0</th>\n",
       "      <td>02-JAN-18 00:00:00</td>\n",
       "      <td>60</td>\n",
       "      <td>803</td>\n",
       "      <td>25434</td>\n",
       "      <td>25239</td>\n",
       "      <td>0.0</td>\n",
       "      <td>3.7</td>\n",
       "      <td>78</td>\n",
       "      <td>12</td>\n",
       "      <td>240</td>\n",
       "      <td>30000</td>\n",
       "      <td>02-JAN-18</td>\n",
       "      <td>Tuesday</td>\n",
       "    </tr>\n",
       "    <tr>\n",
       "      <th>1</th>\n",
       "      <td>02-JAN-18 00:00:00</td>\n",
       "      <td>7</td>\n",
       "      <td>813</td>\n",
       "      <td>63698</td>\n",
       "      <td>63501</td>\n",
       "      <td>0.0</td>\n",
       "      <td>3.7</td>\n",
       "      <td>78</td>\n",
       "      <td>12</td>\n",
       "      <td>240</td>\n",
       "      <td>30000</td>\n",
       "      <td>02-JAN-18</td>\n",
       "      <td>Tuesday</td>\n",
       "    </tr>\n",
       "    <tr>\n",
       "      <th>2</th>\n",
       "      <td>02-JAN-18 00:00:00</td>\n",
       "      <td>9</td>\n",
       "      <td>81</td>\n",
       "      <td>63878</td>\n",
       "      <td>63703</td>\n",
       "      <td>0.0</td>\n",
       "      <td>3.7</td>\n",
       "      <td>78</td>\n",
       "      <td>12</td>\n",
       "      <td>240</td>\n",
       "      <td>30000</td>\n",
       "      <td>02-JAN-18</td>\n",
       "      <td>Tuesday</td>\n",
       "    </tr>\n",
       "    <tr>\n",
       "      <th>3</th>\n",
       "      <td>02-JAN-18 00:00:00</td>\n",
       "      <td>10</td>\n",
       "      <td>817</td>\n",
       "      <td>63977</td>\n",
       "      <td>63780</td>\n",
       "      <td>0.0</td>\n",
       "      <td>3.7</td>\n",
       "      <td>78</td>\n",
       "      <td>12</td>\n",
       "      <td>240</td>\n",
       "      <td>30000</td>\n",
       "      <td>02-JAN-18</td>\n",
       "      <td>Tuesday</td>\n",
       "    </tr>\n",
       "    <tr>\n",
       "      <th>4</th>\n",
       "      <td>02-JAN-18 00:00:00</td>\n",
       "      <td>11</td>\n",
       "      <td>818</td>\n",
       "      <td>64030</td>\n",
       "      <td>63792</td>\n",
       "      <td>0.0</td>\n",
       "      <td>3.7</td>\n",
       "      <td>78</td>\n",
       "      <td>12</td>\n",
       "      <td>240</td>\n",
       "      <td>30000</td>\n",
       "      <td>02-JAN-18</td>\n",
       "      <td>Tuesday</td>\n",
       "    </tr>\n",
       "  </tbody>\n",
       "</table>\n",
       "</div>"
      ],
      "text/plain": [
       "            Date_Time Sequence StopID  Planned_Arr  Actual_Arr rain temp  \\\n",
       "0  02-JAN-18 00:00:00       60    803        25434       25239  0.0  3.7   \n",
       "1  02-JAN-18 00:00:00        7    813        63698       63501  0.0  3.7   \n",
       "2  02-JAN-18 00:00:00        9     81        63878       63703  0.0  3.7   \n",
       "3  02-JAN-18 00:00:00       10    817        63977       63780  0.0  3.7   \n",
       "4  02-JAN-18 00:00:00       11    818        64030       63792  0.0  3.7   \n",
       "\n",
       "   rhum  wdsp  wddir    vis       Date      Day  \n",
       "0    78    12    240  30000  02-JAN-18  Tuesday  \n",
       "1    78    12    240  30000  02-JAN-18  Tuesday  \n",
       "2    78    12    240  30000  02-JAN-18  Tuesday  \n",
       "3    78    12    240  30000  02-JAN-18  Tuesday  \n",
       "4    78    12    240  30000  02-JAN-18  Tuesday  "
      ]
     },
     "execution_count": 27,
     "metadata": {},
     "output_type": "execute_result"
    }
   ],
   "source": [
    "route46A.head()"
   ]
  },
  {
   "cell_type": "code",
   "execution_count": 28,
   "metadata": {},
   "outputs": [
    {
     "data": {
      "text/html": [
       "<div>\n",
       "<style scoped>\n",
       "    .dataframe tbody tr th:only-of-type {\n",
       "        vertical-align: middle;\n",
       "    }\n",
       "\n",
       "    .dataframe tbody tr th {\n",
       "        vertical-align: top;\n",
       "    }\n",
       "\n",
       "    .dataframe thead th {\n",
       "        text-align: right;\n",
       "    }\n",
       "</style>\n",
       "<table border=\"1\" class=\"dataframe\">\n",
       "  <thead>\n",
       "    <tr style=\"text-align: right;\">\n",
       "      <th></th>\n",
       "      <th>count</th>\n",
       "      <th>unique</th>\n",
       "      <th>top</th>\n",
       "      <th>freq</th>\n",
       "    </tr>\n",
       "  </thead>\n",
       "  <tbody>\n",
       "    <tr>\n",
       "      <th>Sequence</th>\n",
       "      <td>209771</td>\n",
       "      <td>64</td>\n",
       "      <td>1</td>\n",
       "      <td>3597</td>\n",
       "    </tr>\n",
       "    <tr>\n",
       "      <th>StopID</th>\n",
       "      <td>209771</td>\n",
       "      <td>124</td>\n",
       "      <td>2039</td>\n",
       "      <td>3411</td>\n",
       "    </tr>\n",
       "    <tr>\n",
       "      <th>rain</th>\n",
       "      <td>209771</td>\n",
       "      <td>2</td>\n",
       "      <td>0</td>\n",
       "      <td>185218</td>\n",
       "    </tr>\n",
       "    <tr>\n",
       "      <th>temp</th>\n",
       "      <td>209771</td>\n",
       "      <td>19</td>\n",
       "      <td>5.5</td>\n",
       "      <td>23152</td>\n",
       "    </tr>\n",
       "    <tr>\n",
       "      <th>Date</th>\n",
       "      <td>209771</td>\n",
       "      <td>22</td>\n",
       "      <td>11-JAN-18</td>\n",
       "      <td>14371</td>\n",
       "    </tr>\n",
       "    <tr>\n",
       "      <th>Day</th>\n",
       "      <td>209771</td>\n",
       "      <td>7</td>\n",
       "      <td>Friday</td>\n",
       "      <td>41841</td>\n",
       "    </tr>\n",
       "  </tbody>\n",
       "</table>\n",
       "</div>"
      ],
      "text/plain": [
       "           count unique        top    freq\n",
       "Sequence  209771     64          1    3597\n",
       "StopID    209771    124       2039    3411\n",
       "rain      209771      2          0  185218\n",
       "temp      209771     19        5.5   23152\n",
       "Date      209771     22  11-JAN-18   14371\n",
       "Day       209771      7     Friday   41841"
      ]
     },
     "execution_count": 28,
     "metadata": {},
     "output_type": "execute_result"
    }
   ],
   "source": [
    "route46A.select_dtypes(['category']).describe().T"
   ]
  },
  {
   "cell_type": "code",
   "execution_count": 31,
   "metadata": {},
   "outputs": [],
   "source": [
    "continuous = ['Date_Time','Planned_Arr','rhum','wdsp','wddir','vis']"
   ]
  },
  {
   "cell_type": "code",
   "execution_count": 32,
   "metadata": {},
   "outputs": [
    {
     "data": {
      "text/plain": [
       "array([[<matplotlib.axes._subplots.AxesSubplot object at 0x0000012D05A1F9E8>,\n",
       "        <matplotlib.axes._subplots.AxesSubplot object at 0x0000012D07CC3A20>],\n",
       "       [<matplotlib.axes._subplots.AxesSubplot object at 0x0000012D07CFA0F0>,\n",
       "        <matplotlib.axes._subplots.AxesSubplot object at 0x0000012D07D20710>],\n",
       "       [<matplotlib.axes._subplots.AxesSubplot object at 0x0000012D07D46DA0>,\n",
       "        <matplotlib.axes._subplots.AxesSubplot object at 0x0000012D07D46DD8>]],\n",
       "      dtype=object)"
      ]
     },
     "execution_count": 32,
     "metadata": {},
     "output_type": "execute_result"
    },
    {
     "data": {
      "image/png": "[encoded data removed]",
      "text/plain": [
       "<Figure size 1800x1800 with 6 Axes>"
      ]
     },
     "metadata": {},
     "output_type": "display_data"
    }
   ],
   "source": [
    "route46A[continuous].hist(figsize=(25,25))"
   ]
  },
  {
   "cell_type": "code",
   "execution_count": 39,
   "metadata": {},
   "outputs": [
    {
     "data": {
      "image/png": "[encoded data removed]",
      "text/plain": [
       "<Figure size 720x720 with 1 Axes>"
      ]
     },
     "metadata": {},
     "output_type": "display_data"
    },
    {
     "data": {
      "image/png": "[encoded data removed]",
      "text/plain": [
       "<Figure size 720x720 with 1 Axes>"
      ]
     },
     "metadata": {},
     "output_type": "display_data"
    },
    {
     "data": {
      "image/png": "[encoded data removed]",
      "text/plain": [
       "<Figure size 720x720 with 1 Axes>"
      ]
     },
     "metadata": {},
     "output_type": "display_data"
    },
    {
     "data": {
      "image/png": "[encoded data removed]",
      "text/plain": [
       "<Figure size 720x720 with 1 Axes>"
      ]
     },
     "metadata": {},
     "output_type": "display_data"
    },
    {
     "data": {
      "image/png": "[encoded data removed]",
      "text/plain": [
       "<Figure size 720x720 with 1 Axes>"
      ]
     },
     "metadata": {},
     "output_type": "display_data"
    },
    {
     "data": {
      "text/plain": [
       "<matplotlib.axes._subplots.AxesSubplot at 0x12d092afc18>"
      ]
     },
     "execution_count": 39,
     "metadata": {},
     "output_type": "execute_result"
    },
    {
     "data": {
      "image/png": "[encoded data removed]",
      "text/plain": [
       "<Figure size 720x720 with 1 Axes>"
      ]
     },
     "metadata": {},
     "output_type": "display_data"
    }
   ],
   "source": [
    "continuous = ['Planned_Arr','rhum','wdsp','wddir','vis']\n",
    "\n",
    "\n",
    "\n",
    "for col in  continuous:\n",
    "    f = route46A[col].plot(kind='box', figsize=(10,10))\n",
    "    plt.show()\n",
    "\n",
    "route46A['Actual_Arr'].plot(kind='box', figsize=(10,10))"
   ]
  },
  {
   "cell_type": "code",
   "execution_count": 40,
   "metadata": {},
   "outputs": [
    {
     "data": {
      "image/png": "[encoded data removed]",
      "text/plain": [
       "<Figure size 864x360 with 1 Axes>"
      ]
     },
     "metadata": {},
     "output_type": "display_data"
    },
    {
     "data": {
      "image/png": "[encoded data removed]",
      "text/plain": [
       "<Figure size 864x360 with 1 Axes>"
      ]
     },
     "metadata": {},
     "output_type": "display_data"
    },
    {
     "data": {
      "image/png": "[encoded data removed]",
      "text/plain": [
       "<Figure size 864x360 with 1 Axes>"
      ]
     },
     "metadata": {},
     "output_type": "display_data"
    },
    {
     "data": {
      "image/png": "[encoded data removed]",
      "text/plain": [
       "<Figure size 864x360 with 1 Axes>"
      ]
     },
     "metadata": {},
     "output_type": "display_data"
    },
    {
     "data": {
      "image/png": "[encoded data removed]",
      "text/plain": [
       "<Figure size 864x360 with 1 Axes>"
      ]
     },
     "metadata": {},
     "output_type": "display_data"
    },
    {
     "data": {
      "image/png": "[encoded data removed]",
      "text/plain": [
       "<Figure size 864x360 with 1 Axes>"
      ]
     },
     "metadata": {},
     "output_type": "display_data"
    }
   ],
   "source": [
    "for column in categorical:\n",
    "    f = route46A[column].value_counts().plot(kind='bar', title=column, figsize=(12,5))\n",
    "    plt.show()"
   ]
  },
  {
   "cell_type": "code",
   "execution_count": 41,
   "metadata": {},
   "outputs": [
    {
     "data": {
      "text/plain": [
       "(array([0.5, 1.5, 2.5, 3.5, 4.5, 5.5]), <a list of 6 Text xticklabel objects>)"
      ]
     },
     "execution_count": 41,
     "metadata": {},
     "output_type": "execute_result"
    },
    {
     "data": {
      "image/png": "[encoded data removed]",
      "text/plain": [
       "<Figure size 1440x1440 with 2 Axes>"
      ]
     },
     "metadata": {},
     "output_type": "display_data"
    }
   ],
   "source": [
    "# Correlation matrix using code found on https://stanford.edu/~mwaskom/software/seaborn/examples/many_pairwise_correlations.html\n",
    "\n",
    "\n",
    "sns.set(style='white')\n",
    "\n",
    "# Calculate correlation of all pairs of continuous features\n",
    "corr = route46A[continuous + ['Actual_Arr']].corr()\n",
    "\n",
    "# Generate a mask for the upper triangle\n",
    "mask = np.zeros_like(corr, dtype=np.bool)\n",
    "mask[np.triu_indices_from(mask)] = True\n",
    "\n",
    "# Set up the matplotlib figure\n",
    "f, ax = plt.subplots(figsize=(20, 20))\n",
    "\n",
    "# Generate a custom colormap - blue and red\n",
    "cmap = sns.diverging_palette(220, 10, as_cmap=True)\n",
    "\n",
    "# Draw the heatmap with the mask and correct aspect ratio\n",
    "sns.heatmap(corr, annot=True, mask=mask, cmap=cmap, vmax=1, vmin=-1, square=True, xticklabels=True, yticklabels=True, linewidths=10, cbar_kws={\"shrink\":1}, ax=ax)\n",
    "plt.yticks(rotation = 0)\n",
    "plt.xticks(rotation = 45)"
   ]
  },
  {
   "cell_type": "markdown",
   "metadata": {},
   "source": [
    "### 4) Outlier and BiCoding\n",
    "In other edition"
   ]
  },
  {
   "cell_type": "code",
   "execution_count": 42,
   "metadata": {},
   "outputs": [],
   "source": [
    "from sklearn.ensemble import RandomForestRegressor\n",
    "from sklearn.model_selection import train_test_split\n",
    "from sklearn import metrics"
   ]
  },
  {
   "cell_type": "code",
   "execution_count": 43,
   "metadata": {},
   "outputs": [],
   "source": [
    "day_toDummy = pd.DataFrame(route46A['Day'])"
   ]
  },
  {
   "cell_type": "code",
   "execution_count": 44,
   "metadata": {},
   "outputs": [],
   "source": [
    "dummy = pd.get_dummies(day_toDummy)"
   ]
  },
  {
   "cell_type": "code",
   "execution_count": 46,
   "metadata": {},
   "outputs": [],
   "source": [
    "df_copy = pd.concat([route46A,dummy],axis=1)"
   ]
  },
  {
   "cell_type": "code",
   "execution_count": 47,
   "metadata": {},
   "outputs": [
    {
     "data": {
      "text/html": [
       "<div>\n",
       "<style scoped>\n",
       "    .dataframe tbody tr th:only-of-type {\n",
       "        vertical-align: middle;\n",
       "    }\n",
       "\n",
       "    .dataframe tbody tr th {\n",
       "        vertical-align: top;\n",
       "    }\n",
       "\n",
       "    .dataframe thead th {\n",
       "        text-align: right;\n",
       "    }\n",
       "</style>\n",
       "<table border=\"1\" class=\"dataframe\">\n",
       "  <thead>\n",
       "    <tr style=\"text-align: right;\">\n",
       "      <th></th>\n",
       "      <th>Date_Time</th>\n",
       "      <th>Sequence</th>\n",
       "      <th>StopID</th>\n",
       "      <th>Planned_Arr</th>\n",
       "      <th>Actual_Arr</th>\n",
       "      <th>rain</th>\n",
       "      <th>temp</th>\n",
       "      <th>rhum</th>\n",
       "      <th>wdsp</th>\n",
       "      <th>wddir</th>\n",
       "      <th>vis</th>\n",
       "      <th>Date</th>\n",
       "      <th>Day</th>\n",
       "    </tr>\n",
       "  </thead>\n",
       "  <tbody>\n",
       "    <tr>\n",
       "      <th>0</th>\n",
       "      <td>02-JAN-18 00:00:00</td>\n",
       "      <td>60</td>\n",
       "      <td>803</td>\n",
       "      <td>25434</td>\n",
       "      <td>25239</td>\n",
       "      <td>0.0</td>\n",
       "      <td>3.7</td>\n",
       "      <td>78</td>\n",
       "      <td>12</td>\n",
       "      <td>240</td>\n",
       "      <td>30000</td>\n",
       "      <td>02-JAN-18</td>\n",
       "      <td>Tuesday</td>\n",
       "    </tr>\n",
       "    <tr>\n",
       "      <th>1</th>\n",
       "      <td>02-JAN-18 00:00:00</td>\n",
       "      <td>7</td>\n",
       "      <td>813</td>\n",
       "      <td>63698</td>\n",
       "      <td>63501</td>\n",
       "      <td>0.0</td>\n",
       "      <td>3.7</td>\n",
       "      <td>78</td>\n",
       "      <td>12</td>\n",
       "      <td>240</td>\n",
       "      <td>30000</td>\n",
       "      <td>02-JAN-18</td>\n",
       "      <td>Tuesday</td>\n",
       "    </tr>\n",
       "    <tr>\n",
       "      <th>2</th>\n",
       "      <td>02-JAN-18 00:00:00</td>\n",
       "      <td>9</td>\n",
       "      <td>81</td>\n",
       "      <td>63878</td>\n",
       "      <td>63703</td>\n",
       "      <td>0.0</td>\n",
       "      <td>3.7</td>\n",
       "      <td>78</td>\n",
       "      <td>12</td>\n",
       "      <td>240</td>\n",
       "      <td>30000</td>\n",
       "      <td>02-JAN-18</td>\n",
       "      <td>Tuesday</td>\n",
       "    </tr>\n",
       "    <tr>\n",
       "      <th>3</th>\n",
       "      <td>02-JAN-18 00:00:00</td>\n",
       "      <td>10</td>\n",
       "      <td>817</td>\n",
       "      <td>63977</td>\n",
       "      <td>63780</td>\n",
       "      <td>0.0</td>\n",
       "      <td>3.7</td>\n",
       "      <td>78</td>\n",
       "      <td>12</td>\n",
       "      <td>240</td>\n",
       "      <td>30000</td>\n",
       "      <td>02-JAN-18</td>\n",
       "      <td>Tuesday</td>\n",
       "    </tr>\n",
       "    <tr>\n",
       "      <th>4</th>\n",
       "      <td>02-JAN-18 00:00:00</td>\n",
       "      <td>11</td>\n",
       "      <td>818</td>\n",
       "      <td>64030</td>\n",
       "      <td>63792</td>\n",
       "      <td>0.0</td>\n",
       "      <td>3.7</td>\n",
       "      <td>78</td>\n",
       "      <td>12</td>\n",
       "      <td>240</td>\n",
       "      <td>30000</td>\n",
       "      <td>02-JAN-18</td>\n",
       "      <td>Tuesday</td>\n",
       "    </tr>\n",
       "  </tbody>\n",
       "</table>\n",
       "</div>"
      ],
      "text/plain": [
       "            Date_Time Sequence StopID  Planned_Arr  Actual_Arr rain temp  \\\n",
       "0  02-JAN-18 00:00:00       60    803        25434       25239  0.0  3.7   \n",
       "1  02-JAN-18 00:00:00        7    813        63698       63501  0.0  3.7   \n",
       "2  02-JAN-18 00:00:00        9     81        63878       63703  0.0  3.7   \n",
       "3  02-JAN-18 00:00:00       10    817        63977       63780  0.0  3.7   \n",
       "4  02-JAN-18 00:00:00       11    818        64030       63792  0.0  3.7   \n",
       "\n",
       "   rhum  wdsp  wddir    vis       Date      Day  \n",
       "0    78    12    240  30000  02-JAN-18  Tuesday  \n",
       "1    78    12    240  30000  02-JAN-18  Tuesday  \n",
       "2    78    12    240  30000  02-JAN-18  Tuesday  \n",
       "3    78    12    240  30000  02-JAN-18  Tuesday  \n",
       "4    78    12    240  30000  02-JAN-18  Tuesday  "
      ]
     },
     "execution_count": 47,
     "metadata": {},
     "output_type": "execute_result"
    }
   ],
   "source": [
    "route46A.head()"
   ]
  },
  {
   "cell_type": "code",
   "execution_count": 48,
   "metadata": {},
   "outputs": [
    {
     "data": {
      "text/html": [
       "<div>\n",
       "<style scoped>\n",
       "    .dataframe tbody tr th:only-of-type {\n",
       "        vertical-align: middle;\n",
       "    }\n",
       "\n",
       "    .dataframe tbody tr th {\n",
       "        vertical-align: top;\n",
       "    }\n",
       "\n",
       "    .dataframe thead th {\n",
       "        text-align: right;\n",
       "    }\n",
       "</style>\n",
       "<table border=\"1\" class=\"dataframe\">\n",
       "  <thead>\n",
       "    <tr style=\"text-align: right;\">\n",
       "      <th></th>\n",
       "      <th>Date_Time</th>\n",
       "      <th>Sequence</th>\n",
       "      <th>StopID</th>\n",
       "      <th>Planned_Arr</th>\n",
       "      <th>Actual_Arr</th>\n",
       "      <th>rain</th>\n",
       "      <th>temp</th>\n",
       "      <th>rhum</th>\n",
       "      <th>wdsp</th>\n",
       "      <th>wddir</th>\n",
       "      <th>vis</th>\n",
       "      <th>Date</th>\n",
       "      <th>Day</th>\n",
       "      <th>Day_Friday</th>\n",
       "      <th>Day_Monday</th>\n",
       "      <th>Day_Saturday</th>\n",
       "      <th>Day_Sunday</th>\n",
       "      <th>Day_Thursday</th>\n",
       "      <th>Day_Tuesday</th>\n",
       "      <th>Day_Wednesday</th>\n",
       "    </tr>\n",
       "  </thead>\n",
       "  <tbody>\n",
       "    <tr>\n",
       "      <th>0</th>\n",
       "      <td>02-JAN-18 00:00:00</td>\n",
       "      <td>60</td>\n",
       "      <td>803</td>\n",
       "      <td>25434</td>\n",
       "      <td>25239</td>\n",
       "      <td>0.0</td>\n",
       "      <td>3.7</td>\n",
       "      <td>78</td>\n",
       "      <td>12</td>\n",
       "      <td>240</td>\n",
       "      <td>30000</td>\n",
       "      <td>02-JAN-18</td>\n",
       "      <td>Tuesday</td>\n",
       "      <td>0</td>\n",
       "      <td>0</td>\n",
       "      <td>0</td>\n",
       "      <td>0</td>\n",
       "      <td>0</td>\n",
       "      <td>1</td>\n",
       "      <td>0</td>\n",
       "    </tr>\n",
       "    <tr>\n",
       "      <th>1</th>\n",
       "      <td>02-JAN-18 00:00:00</td>\n",
       "      <td>7</td>\n",
       "      <td>813</td>\n",
       "      <td>63698</td>\n",
       "      <td>63501</td>\n",
       "      <td>0.0</td>\n",
       "      <td>3.7</td>\n",
       "      <td>78</td>\n",
       "      <td>12</td>\n",
       "      <td>240</td>\n",
       "      <td>30000</td>\n",
       "      <td>02-JAN-18</td>\n",
       "      <td>Tuesday</td>\n",
       "      <td>0</td>\n",
       "      <td>0</td>\n",
       "      <td>0</td>\n",
       "      <td>0</td>\n",
       "      <td>0</td>\n",
       "      <td>1</td>\n",
       "      <td>0</td>\n",
       "    </tr>\n",
       "    <tr>\n",
       "      <th>2</th>\n",
       "      <td>02-JAN-18 00:00:00</td>\n",
       "      <td>9</td>\n",
       "      <td>81</td>\n",
       "      <td>63878</td>\n",
       "      <td>63703</td>\n",
       "      <td>0.0</td>\n",
       "      <td>3.7</td>\n",
       "      <td>78</td>\n",
       "      <td>12</td>\n",
       "      <td>240</td>\n",
       "      <td>30000</td>\n",
       "      <td>02-JAN-18</td>\n",
       "      <td>Tuesday</td>\n",
       "      <td>0</td>\n",
       "      <td>0</td>\n",
       "      <td>0</td>\n",
       "      <td>0</td>\n",
       "      <td>0</td>\n",
       "      <td>1</td>\n",
       "      <td>0</td>\n",
       "    </tr>\n",
       "    <tr>\n",
       "      <th>3</th>\n",
       "      <td>02-JAN-18 00:00:00</td>\n",
       "      <td>10</td>\n",
       "      <td>817</td>\n",
       "      <td>63977</td>\n",
       "      <td>63780</td>\n",
       "      <td>0.0</td>\n",
       "      <td>3.7</td>\n",
       "      <td>78</td>\n",
       "      <td>12</td>\n",
       "      <td>240</td>\n",
       "      <td>30000</td>\n",
       "      <td>02-JAN-18</td>\n",
       "      <td>Tuesday</td>\n",
       "      <td>0</td>\n",
       "      <td>0</td>\n",
       "      <td>0</td>\n",
       "      <td>0</td>\n",
       "      <td>0</td>\n",
       "      <td>1</td>\n",
       "      <td>0</td>\n",
       "    </tr>\n",
       "    <tr>\n",
       "      <th>4</th>\n",
       "      <td>02-JAN-18 00:00:00</td>\n",
       "      <td>11</td>\n",
       "      <td>818</td>\n",
       "      <td>64030</td>\n",
       "      <td>63792</td>\n",
       "      <td>0.0</td>\n",
       "      <td>3.7</td>\n",
       "      <td>78</td>\n",
       "      <td>12</td>\n",
       "      <td>240</td>\n",
       "      <td>30000</td>\n",
       "      <td>02-JAN-18</td>\n",
       "      <td>Tuesday</td>\n",
       "      <td>0</td>\n",
       "      <td>0</td>\n",
       "      <td>0</td>\n",
       "      <td>0</td>\n",
       "      <td>0</td>\n",
       "      <td>1</td>\n",
       "      <td>0</td>\n",
       "    </tr>\n",
       "  </tbody>\n",
       "</table>\n",
       "</div>"
      ],
      "text/plain": [
       "            Date_Time Sequence StopID  Planned_Arr  Actual_Arr rain temp  \\\n",
       "0  02-JAN-18 00:00:00       60    803        25434       25239  0.0  3.7   \n",
       "1  02-JAN-18 00:00:00        7    813        63698       63501  0.0  3.7   \n",
       "2  02-JAN-18 00:00:00        9     81        63878       63703  0.0  3.7   \n",
       "3  02-JAN-18 00:00:00       10    817        63977       63780  0.0  3.7   \n",
       "4  02-JAN-18 00:00:00       11    818        64030       63792  0.0  3.7   \n",
       "\n",
       "   rhum  wdsp  wddir    vis       Date      Day  Day_Friday  Day_Monday  \\\n",
       "0    78    12    240  30000  02-JAN-18  Tuesday           0           0   \n",
       "1    78    12    240  30000  02-JAN-18  Tuesday           0           0   \n",
       "2    78    12    240  30000  02-JAN-18  Tuesday           0           0   \n",
       "3    78    12    240  30000  02-JAN-18  Tuesday           0           0   \n",
       "4    78    12    240  30000  02-JAN-18  Tuesday           0           0   \n",
       "\n",
       "   Day_Saturday  Day_Sunday  Day_Thursday  Day_Tuesday  Day_Wednesday  \n",
       "0             0           0             0            1              0  \n",
       "1             0           0             0            1              0  \n",
       "2             0           0             0            1              0  \n",
       "3             0           0             0            1              0  \n",
       "4             0           0             0            1              0  "
      ]
     },
     "execution_count": 48,
     "metadata": {},
     "output_type": "execute_result"
    }
   ],
   "source": [
    "df_copy.head()"
   ]
  },
  {
   "cell_type": "markdown",
   "metadata": {},
   "source": [
    "#### 4.1) without weather"
   ]
  },
  {
   "cell_type": "code",
   "execution_count": 49,
   "metadata": {},
   "outputs": [],
   "source": [
    "model_input = pd.DataFrame(df_copy[['Sequence','StopID','Planned_Arr','Day_Friday','Day_Monday','Day_Saturday','Day_Sunday','Day_Thursday','Day_Tuesday','Day_Wednesday']])"
   ]
  },
  {
   "cell_type": "code",
   "execution_count": 50,
   "metadata": {},
   "outputs": [],
   "source": [
    "model_output = df_copy['Actual_Arr']"
   ]
  },
  {
   "cell_type": "code",
   "execution_count": 51,
   "metadata": {},
   "outputs": [],
   "source": [
    "X_train,X_test,Y_train,Y_test = train_test_split(model_input,model_output,test_size=0.33,random_state=42)"
   ]
  },
  {
   "cell_type": "code",
   "execution_count": 52,
   "metadata": {},
   "outputs": [
    {
     "data": {
      "text/plain": [
       "RandomForestRegressor(bootstrap=True, criterion='mse', max_depth=None,\n",
       "           max_features='auto', max_leaf_nodes=None,\n",
       "           min_impurity_decrease=0.0, min_impurity_split=None,\n",
       "           min_samples_leaf=1, min_samples_split=2,\n",
       "           min_weight_fraction_leaf=0.0, n_estimators=100, n_jobs=1,\n",
       "           oob_score=False, random_state=None, verbose=0, warm_start=False)"
      ]
     },
     "execution_count": 52,
     "metadata": {},
     "output_type": "execute_result"
    }
   ],
   "source": [
    "rf=RandomForestRegressor(n_estimators=100)\n",
    "rf.fit(X_train,Y_train)"
   ]
  },
  {
   "cell_type": "code",
   "execution_count": 53,
   "metadata": {},
   "outputs": [
    {
     "name": "stdout",
     "output_type": "stream",
     "text": [
      "[41176.728      80701.576      52099.66366667 ... 68191.2735\n",
      " 48940.84797619 73893.4935    ]\n",
      "100317    41408\n",
      "169909    80601\n",
      "203806    53321\n",
      "44975     39842\n",
      "142084    23893\n",
      "78818     34014\n",
      "92155     60701\n",
      "154915    77151\n",
      "19017     71598\n",
      "119245    65478\n",
      "109068    55023\n",
      "121687    39246\n",
      "122885    38400\n",
      "41843     77094\n",
      "92423     66466\n",
      "68538     60967\n",
      "48682     65672\n",
      "139836    23906\n",
      "178596    31659\n",
      "52304     53065\n",
      "115515    38276\n",
      "79126     76652\n",
      "55050     35874\n",
      "93698     53434\n",
      "126898    69199\n",
      "14928     19078\n",
      "1411      63600\n",
      "88530     49476\n",
      "51426     31120\n",
      "81228     51723\n",
      "          ...  \n",
      "45846     39767\n",
      "39363     29797\n",
      "186520    49955\n",
      "52771     55567\n",
      "156428    38259\n",
      "117892    48996\n",
      "93461     55606\n",
      "208692    83479\n",
      "35669     53051\n",
      "16434     44349\n",
      "64956     61324\n",
      "32165     32290\n",
      "75521     81497\n",
      "179899    34078\n",
      "171690    28617\n",
      "208854    31046\n",
      "31414     67096\n",
      "86289     58864\n",
      "68955     46372\n",
      "53306     80948\n",
      "23469     23039\n",
      "64891     28494\n",
      "12942     68566\n",
      "42477     33695\n",
      "145407    18938\n",
      "66348     39529\n",
      "138446    79096\n",
      "161133    68191\n",
      "60291     48943\n",
      "197612    73971\n",
      "Name: Actual_Arr, Length: 69225, dtype: int64\n"
     ]
    }
   ],
   "source": [
    "prediction = rf.predict(X_test)\n",
    "print(prediction)\n",
    "print(Y_test)"
   ]
  },
  {
   "cell_type": "code",
   "execution_count": 54,
   "metadata": {},
   "outputs": [
    {
     "name": "stdout",
     "output_type": "stream",
     "text": [
      "351.13007052428975\n"
     ]
    }
   ],
   "source": [
    "import numpy as np\n",
    "\n",
    "print(np.sqrt(metrics.mean_squared_error(Y_test,prediction)))"
   ]
  },
  {
   "cell_type": "code",
   "execution_count": 67,
   "metadata": {},
   "outputs": [
    {
     "data": {
      "text/plain": [
       "0.9998836745810739"
      ]
     },
     "execution_count": 67,
     "metadata": {},
     "output_type": "execute_result"
    }
   ],
   "source": [
    "rf.score(X_train,Y_train)"
   ]
  },
  {
   "cell_type": "code",
   "execution_count": 56,
   "metadata": {},
   "outputs": [
    {
     "data": {
      "text/plain": [
       "0.999591385797703"
      ]
     },
     "execution_count": 56,
     "metadata": {},
     "output_type": "execute_result"
    }
   ],
   "source": [
    "rf.score(X_test,Y_test)"
   ]
  },
  {
   "cell_type": "code",
   "execution_count": 57,
   "metadata": {},
   "outputs": [],
   "source": [
    "import pickle\n",
    "\n",
    "pickle.dump(rf,open('prediction_for_46A_without_weather.pickle', 'wb'))"
   ]
  },
  {
   "cell_type": "markdown",
   "metadata": {},
   "source": [
    "#### 4.2）with rain"
   ]
  },
  {
   "cell_type": "code",
   "execution_count": 58,
   "metadata": {},
   "outputs": [],
   "source": [
    "model_input_1 = pd.DataFrame(df_copy[['rain','Sequence','StopID','Planned_Arr','Day_Friday','Day_Monday','Day_Saturday','Day_Sunday','Day_Thursday','Day_Tuesday','Day_Wednesday']])"
   ]
  },
  {
   "cell_type": "code",
   "execution_count": 61,
   "metadata": {},
   "outputs": [],
   "source": [
    "model_output_1 = df_copy['Actual_Arr']"
   ]
  },
  {
   "cell_type": "code",
   "execution_count": 62,
   "metadata": {},
   "outputs": [],
   "source": [
    "X_train_1,X_test_1,Y_train_1,Y_test_1 = train_test_split(model_input,model_output,test_size=0.33,random_state=42)"
   ]
  },
  {
   "cell_type": "code",
   "execution_count": 63,
   "metadata": {},
   "outputs": [
    {
     "data": {
      "text/plain": [
       "RandomForestRegressor(bootstrap=True, criterion='mse', max_depth=None,\n",
       "           max_features='auto', max_leaf_nodes=None,\n",
       "           min_impurity_decrease=0.0, min_impurity_split=None,\n",
       "           min_samples_leaf=1, min_samples_split=2,\n",
       "           min_weight_fraction_leaf=0.0, n_estimators=100, n_jobs=1,\n",
       "           oob_score=False, random_state=None, verbose=0, warm_start=False)"
      ]
     },
     "execution_count": 63,
     "metadata": {},
     "output_type": "execute_result"
    }
   ],
   "source": [
    "rf=RandomForestRegressor(n_estimators=100)\n",
    "rf.fit(X_train_1,Y_train_1)"
   ]
  },
  {
   "cell_type": "code",
   "execution_count": 64,
   "metadata": {},
   "outputs": [
    {
     "name": "stdout",
     "output_type": "stream",
     "text": [
      "[41189.39535714 80699.90833333 52167.405      ... 68237.09933333\n",
      " 48911.45583333 73895.71233333]\n",
      "100317    41408\n",
      "169909    80601\n",
      "203806    53321\n",
      "44975     39842\n",
      "142084    23893\n",
      "78818     34014\n",
      "92155     60701\n",
      "154915    77151\n",
      "19017     71598\n",
      "119245    65478\n",
      "109068    55023\n",
      "121687    39246\n",
      "122885    38400\n",
      "41843     77094\n",
      "92423     66466\n",
      "68538     60967\n",
      "48682     65672\n",
      "139836    23906\n",
      "178596    31659\n",
      "52304     53065\n",
      "115515    38276\n",
      "79126     76652\n",
      "55050     35874\n",
      "93698     53434\n",
      "126898    69199\n",
      "14928     19078\n",
      "1411      63600\n",
      "88530     49476\n",
      "51426     31120\n",
      "81228     51723\n",
      "          ...  \n",
      "45846     39767\n",
      "39363     29797\n",
      "186520    49955\n",
      "52771     55567\n",
      "156428    38259\n",
      "117892    48996\n",
      "93461     55606\n",
      "208692    83479\n",
      "35669     53051\n",
      "16434     44349\n",
      "64956     61324\n",
      "32165     32290\n",
      "75521     81497\n",
      "179899    34078\n",
      "171690    28617\n",
      "208854    31046\n",
      "31414     67096\n",
      "86289     58864\n",
      "68955     46372\n",
      "53306     80948\n",
      "23469     23039\n",
      "64891     28494\n",
      "12942     68566\n",
      "42477     33695\n",
      "145407    18938\n",
      "66348     39529\n",
      "138446    79096\n",
      "161133    68191\n",
      "60291     48943\n",
      "197612    73971\n",
      "Name: Actual_Arr, Length: 69225, dtype: int64\n"
     ]
    }
   ],
   "source": [
    "prediction_1 = rf.predict(X_test_1)\n",
    "print(prediction_1)\n",
    "print(Y_test_1)"
   ]
  },
  {
   "cell_type": "code",
   "execution_count": 65,
   "metadata": {},
   "outputs": [
    {
     "name": "stdout",
     "output_type": "stream",
     "text": [
      "351.2092907727785\n"
     ]
    }
   ],
   "source": [
    "import numpy as np\n",
    "\n",
    "print(np.sqrt(metrics.mean_squared_error(Y_test_1,prediction_1)))"
   ]
  },
  {
   "cell_type": "code",
   "execution_count": 68,
   "metadata": {},
   "outputs": [
    {
     "data": {
      "text/plain": [
       "0.9998836745810739"
      ]
     },
     "execution_count": 68,
     "metadata": {},
     "output_type": "execute_result"
    }
   ],
   "source": [
    "rf.score(X_train_1,Y_train_1)"
   ]
  },
  {
   "cell_type": "code",
   "execution_count": 66,
   "metadata": {},
   "outputs": [
    {
     "data": {
      "text/plain": [
       "0.9995912013978295"
      ]
     },
     "execution_count": 66,
     "metadata": {},
     "output_type": "execute_result"
    }
   ],
   "source": [
    "rf.score(X_test_1,Y_test_1)"
   ]
  },
  {
   "cell_type": "code",
   "execution_count": null,
   "metadata": {},
   "outputs": [],
   "source": [
    "import pickle\n",
    "\n",
    "pickle.dump(rf,open('prediction_for_46A_with_rain.pickle', 'wb'))"
   ]
  },
  {
   "cell_type": "code",
   "execution_count": null,
   "metadata": {},
   "outputs": [],
   "source": []
  },
  {
   "cell_type": "code",
   "execution_count": null,
   "metadata": {},
   "outputs": [],
   "source": []
  }
 ],
 "metadata": {
  "kernelspec": {
   "display_name": "Python [conda env:anaconda]",
   "language": "python",
   "name": "conda-env-anaconda-py"
  },
  "language_info": {
   "codemirror_mode": {
    "name": "ipython",
    "version": 3
   },
   "file_extension": ".py",
   "mimetype": "text/x-python",
   "name": "python",
   "nbconvert_exporter": "python",
   "pygments_lexer": "ipython3",
   "version": "3.6.5"
  }
 },
 "nbformat": 4,
 "nbformat_minor": 2
}
